{
 "cells": [
  {
   "cell_type": "code",
   "execution_count": 969,
   "id": "e95a78a3",
   "metadata": {
    "ExecuteTime": {
     "end_time": "2022-04-10T08:36:14.217270Z",
     "start_time": "2022-04-10T08:36:14.208871Z"
    }
   },
   "outputs": [],
   "source": [
    "import ipywidgets as widgets"
   ]
  },
  {
   "cell_type": "code",
   "execution_count": 970,
   "id": "adc5a851",
   "metadata": {
    "ExecuteTime": {
     "end_time": "2022-04-10T08:36:14.414720Z",
     "start_time": "2022-04-10T08:36:14.224960Z"
    }
   },
   "outputs": [],
   "source": [
    "class ButtonWithValue(widgets.Button):\n",
    "    def __init__(self, *args, **kwargs):\n",
    "        self.value = kwargs['value']\n",
    "        kwargs.pop('value', None)\n",
    "        super(ButtonWithValue, self).__init__(*args, **kwargs)"
   ]
  },
  {
   "cell_type": "markdown",
   "id": "166d1c6e",
   "metadata": {
    "heading_collapsed": true
   },
   "source": [
    "#### Chromatic Number"
   ]
  },
  {
   "cell_type": "code",
   "execution_count": 971,
   "id": "17698695",
   "metadata": {
    "ExecuteTime": {
     "end_time": "2022-04-10T08:36:14.524286Z",
     "start_time": "2022-04-10T08:36:14.417476Z"
    },
    "hidden": true
   },
   "outputs": [],
   "source": [
    "\n",
    "import numpy as np\n",
    "import networkx as nx\n",
    "from qiskit import Aer\n",
    "from qiskit.quantum_info import Pauli\n",
    "from qiskit.opflow import PauliSumOp\n",
    "from qiskit.algorithms import QAOA\n",
    "from qiskit.algorithms.optimizers import COBYLA, SPSA, ADAM\n",
    "\n",
    "\n",
    "def get_operator(G):\n",
    "    \"\"\"Construct the cost Hamiltonian for the maximum independent set of a \n",
    "    a graph defined as:\n",
    "        0.5 \\sum_{i=nodes} Z_i + A/4 \\sum_{ij = edges} Z_i x Z_j - Z_i - Z_j.\n",
    "    Args:\n",
    "        class graph (networkx): the graph in networkx.\n",
    "    Returns:\n",
    "        dict: dictionary of pauli Z matrices and its position.\n",
    "    \"\"\"\n",
    "    \n",
    "    A = 2.6\n",
    "    num_nodes = G.number_of_nodes()\n",
    " \n",
    "    pauli_list = []\n",
    "    \n",
    "    for i in range(num_nodes):\n",
    "        x_p = np.zeros(num_nodes, dtype=bool)\n",
    "        z_p = np.zeros(num_nodes, dtype=bool)\n",
    "        z_p[i] = True \n",
    "        pauli_list.append([1/2,Pauli((z_p,x_p))])\n",
    "        \n",
    "    for pair in G.edges:\n",
    "        x_p = np.zeros(num_nodes, dtype=bool)\n",
    "        z_p = np.zeros(num_nodes, dtype=bool)\n",
    "        z_p[pair[0]] = True\n",
    "        z_p[pair[1]] = True\n",
    "        pauli_list.append([A/4, Pauli((z_p,x_p))])\n",
    "        \n",
    "    for pair in G.edges:\n",
    "        x_p = np.zeros(num_nodes, dtype=bool)\n",
    "        z_p = np.zeros(num_nodes, dtype=bool)\n",
    "        z_p[pair[0]] = True\n",
    "        pauli_list.append([-A/4, Pauli((z_p,x_p))])\n",
    "        \n",
    "    for pair in G.edges:\n",
    "        x_p = np.zeros(num_nodes, dtype=bool)\n",
    "        z_p = np.zeros(num_nodes, dtype=bool)\n",
    "        z_p[pair[1]] = True\n",
    "        pauli_list.append([-A/4, Pauli((z_p,x_p))])\n",
    "        \n",
    "    pauli_list = [(pauli[1].to_label(), pauli[0]) for pauli in pauli_list]\n",
    "    \n",
    "    return PauliSumOp.from_list(pauli_list)\n",
    "\n",
    "\n",
    "def sample_most_likely(state_vector):\n",
    "    \"\"\"Compute the most likely binary string from state vector.\n",
    "    Args:\n",
    "        state_vector (numpy.ndarray): state vector or counts.\n",
    "    Returns:\n",
    "        numpy.ndarray: binary string as numpy.ndarray of ints.\n",
    "    \"\"\"\n",
    "    n = int(np.log2(state_vector.shape[0]))\n",
    "    k = np.argmax(np.abs(state_vector))\n",
    "    x = np.zeros(n)\n",
    "    for i in range(n):\n",
    "       x[i] = k % 2\n",
    "       k >>= 1\n",
    "    return x\n",
    "    \n",
    "def max_clique(G):\n",
    "    \"\"\"Compute the QAOA algorithm and find the maximum independent set \n",
    "    of the graph G.\n",
    "    Args:\n",
    "        class graph (networkx): the graph in networkx.\n",
    "    Returns:\n",
    "        numpy.ndarray: binary string as numpy.ndarray of ints.\n",
    "    \"\"\"\n",
    "    qubit_op = get_operator(G)\n",
    "    optimizer = ADAM()\n",
    "    qaoa = QAOA(optimizer, quantum_instance=Aer.get_backend('statevector_simulator'))\n",
    "\n",
    "    result = qaoa.compute_minimum_eigenvalue(qubit_op)\n",
    "                \n",
    "    return sample_most_likely(result.eigenstate)\n",
    "\n",
    "\n",
    "def chromatic_number(G):\n",
    "    \"\"\"Compute the chromatic number of a graph G.\n",
    "    Args:\n",
    "        class graph(networkx): the graph in networkx.\n",
    "    Returns:\n",
    "        int: integer ranging from 1 to number of nodes.  \n",
    "    \"\"\"\n",
    "    color = 1\n",
    "    while bool(G.edges):\n",
    "        clique = max_clique(G)\n",
    "        for i in range(len(clique)):\n",
    "            if clique[i] == 1:\n",
    "                G.remove_node(i)\n",
    "        G=nx.convert_node_labels_to_integers(G) #relabel nodes starting from 0\n",
    "        color += 1\n",
    "    return color "
   ]
  },
  {
   "cell_type": "markdown",
   "id": "15413d8f",
   "metadata": {},
   "source": [
    "### Graph Panel"
   ]
  },
  {
   "cell_type": "code",
   "execution_count": 972,
   "id": "1d504e5a",
   "metadata": {
    "ExecuteTime": {
     "end_time": "2022-04-10T08:36:14.656313Z",
     "start_time": "2022-04-10T08:36:14.526471Z"
    }
   },
   "outputs": [],
   "source": [
    "import retworkx as rx\n",
    "import networkx as nx \n",
    "from retworkx import visualization\n",
    "from qiskit.visualization import dag_drawer"
   ]
  },
  {
   "cell_type": "code",
   "execution_count": 973,
   "id": "a26e300e",
   "metadata": {
    "ExecuteTime": {
     "end_time": "2022-04-10T08:36:14.757200Z",
     "start_time": "2022-04-10T08:36:14.658677Z"
    }
   },
   "outputs": [],
   "source": [
    "g = nx.generators.gnm_random_graph(n = 7, m = 10)"
   ]
  },
  {
   "cell_type": "code",
   "execution_count": 974,
   "id": "c5404932",
   "metadata": {
    "ExecuteTime": {
     "end_time": "2022-04-10T08:36:14.867366Z",
     "start_time": "2022-04-10T08:36:14.761989Z"
    }
   },
   "outputs": [],
   "source": [
    "colors_dict = {\n",
    "    0 : \"lightgray\",\n",
    "    1 : \"lightgray\",\n",
    "    2 : \"lightgray\",\n",
    "    3 :  \"lightgray\",\n",
    "    4 : \"lightgray\",\n",
    "    5 : \"lightgray\",\n",
    "    6 : \"lightgray\"\n",
    "}"
   ]
  },
  {
   "cell_type": "code",
   "execution_count": 975,
   "id": "67cbc504",
   "metadata": {
    "ExecuteTime": {
     "end_time": "2022-04-10T08:36:14.976945Z",
     "start_time": "2022-04-10T08:36:14.878466Z"
    }
   },
   "outputs": [],
   "source": [
    "# retworkx \n",
    "graph = rx.networkx_converter(g)\n",
    "\n",
    "def node_colors(node):\n",
    "    style = {\n",
    "        'color' : colors_dict[node], 'fillcolor' : colors_dict[node], 'style' : 'filled'\n",
    "    }\n",
    "    return style"
   ]
  },
  {
   "cell_type": "code",
   "execution_count": 976,
   "id": "9520dfa8",
   "metadata": {
    "ExecuteTime": {
     "end_time": "2022-04-10T08:36:15.388295Z",
     "start_time": "2022-04-10T08:36:14.982891Z"
    }
   },
   "outputs": [
    {
     "data": {
      "application/vnd.jupyter.widget-view+json": {
       "model_id": "3c3827d3c2e44baa8de0bedb0ce06e23",
       "version_major": 2,
       "version_minor": 0
      },
      "text/plain": [
       "VBox(children=(HTML(value=\"<h1 class = 'title'> QColor </h1>\"), Output(layout=Layout(border='1px solid #000', …"
      ]
     },
     "metadata": {},
     "output_type": "display_data"
    }
   ],
   "source": [
    "graph_text = widgets.HTML(r\"<h1 class = 'title'> QColor </h1>\")\n",
    "graph_img = widgets.Output(layout = {'width' : '100%'})\n",
    "\n",
    "graph_img.clear_output()\n",
    "graph_img.layout = {\n",
    "    \"border\": \"1px solid #000\",\n",
    "    \"padding\": \"2px 2px 2px 20%\",\n",
    "    \"margin\" : \"2px\", \n",
    "}\n",
    "with graph_img:\n",
    "    display(visualization.graphviz_draw(graph, node_attr_fn = node_colors))\n",
    "#     display(graph.show('text.html'))   \n",
    "    \n",
    "graph_panel = widgets.VBox(\n",
    "            [graph_text, \n",
    "             graph_img]\n",
    "    )\n",
    "graph_panel.layout = {\n",
    "#     \"border\": \"1px solid #000\",\n",
    "    \"padding\": \"10px\",\n",
    "    \"overflow\": \"auto\",\n",
    "    \"width\": \"100%\",\n",
    "}\n",
    "display(graph_panel)"
   ]
  },
  {
   "cell_type": "code",
   "execution_count": 977,
   "id": "99990630",
   "metadata": {
    "ExecuteTime": {
     "end_time": "2022-04-10T08:36:15.400923Z",
     "start_time": "2022-04-10T08:36:15.392548Z"
    }
   },
   "outputs": [
    {
     "data": {
      "text/plain": [
       "<retworkx.PyGraph at 0x7f390f2513c0>"
      ]
     },
     "execution_count": 977,
     "metadata": {},
     "output_type": "execute_result"
    }
   ],
   "source": [
    "graph"
   ]
  },
  {
   "cell_type": "markdown",
   "id": "b147c8a4",
   "metadata": {},
   "source": [
    "### Make Text box for interaction"
   ]
  },
  {
   "cell_type": "code",
   "execution_count": 978,
   "id": "929034f8",
   "metadata": {
    "ExecuteTime": {
     "end_time": "2022-04-10T08:36:15.646717Z",
     "start_time": "2022-04-10T08:36:15.404883Z"
    }
   },
   "outputs": [],
   "source": [
    "interaction_box = widgets.HTML(\"<h3> Hey there! </h3>\")\n",
    "interaction_box.layout = {\n",
    "    \"border\": \"1px solid #000\",\n",
    "    \"padding\": \"5px 5px 5px 20px\",\n",
    "    \"margin\" : \"3px\",\n",
    "    \"overflow\": \"auto\"\n",
    "}"
   ]
  },
  {
   "cell_type": "code",
   "execution_count": 979,
   "id": "21fa7ede",
   "metadata": {
    "ExecuteTime": {
     "end_time": "2022-04-10T08:36:15.767490Z",
     "start_time": "2022-04-10T08:36:15.651771Z"
    }
   },
   "outputs": [],
   "source": [
    "left_panel = widgets.VBox([graph_panel, interaction_box], layout = {\"width\" : \"60%\"})"
   ]
  },
  {
   "cell_type": "code",
   "execution_count": 980,
   "id": "252bebe1",
   "metadata": {
    "ExecuteTime": {
     "end_time": "2022-04-10T08:36:15.883123Z",
     "start_time": "2022-04-10T08:36:15.773945Z"
    }
   },
   "outputs": [
    {
     "data": {
      "application/vnd.jupyter.widget-view+json": {
       "model_id": "1bd64285d7f84f9dbb92cc5b38e15281",
       "version_major": 2,
       "version_minor": 0
      },
      "text/plain": [
       "VBox(children=(VBox(children=(HTML(value=\"<h1 class = 'title'> QColor </h1>\"), Output(layout=Layout(border='1p…"
      ]
     },
     "metadata": {},
     "output_type": "display_data"
    }
   ],
   "source": [
    "display(left_panel)"
   ]
  },
  {
   "cell_type": "markdown",
   "id": "e0415367",
   "metadata": {},
   "source": [
    "### Make the right box"
   ]
  },
  {
   "cell_type": "code",
   "execution_count": 981,
   "id": "f3ddcb34",
   "metadata": {
    "ExecuteTime": {
     "end_time": "2022-04-10T08:36:15.984721Z",
     "start_time": "2022-04-10T08:36:15.887547Z"
    }
   },
   "outputs": [
    {
     "data": {
      "text/plain": [
       "<retworkx.PyGraph at 0x7f390f2513c0>"
      ]
     },
     "execution_count": 981,
     "metadata": {},
     "output_type": "execute_result"
    }
   ],
   "source": [
    "graph"
   ]
  },
  {
   "cell_type": "code",
   "execution_count": 982,
   "id": "b56d7cc2",
   "metadata": {
    "ExecuteTime": {
     "end_time": "2022-04-10T08:36:16.090646Z",
     "start_time": "2022-04-10T08:36:15.989475Z"
    }
   },
   "outputs": [],
   "source": [
    "color_change = {\n",
    "    \"selected_color\" : None\n",
    "}"
   ]
  },
  {
   "cell_type": "code",
   "execution_count": 983,
   "id": "f6aba94f",
   "metadata": {
    "ExecuteTime": {
     "end_time": "2022-04-10T08:36:16.202048Z",
     "start_time": "2022-04-10T08:36:16.096041Z"
    }
   },
   "outputs": [],
   "source": [
    "# each button on click performs different functions \n",
    "\n",
    "def color_callback(btn):\n",
    "    color_val = btn.value \n",
    "    print(\"Value is :\",color_val)\n",
    "    color_change['selected_color'] = color_val\n",
    "\n",
    "def vertex_callback(btn):\n",
    "    \n",
    "    # update the color of the button \n",
    "    \n",
    "    # get the node id of the button\n",
    "    node_id = int(btn.value)\n",
    "    \n",
    "    # now color it \n",
    "    nd_color = color_change['selected_color']\n",
    "    \n",
    "    if nd_color!=\"reset\":\n",
    "        colors_dict[node_id] = nd_color\n",
    "        btn.style.button_color = nd_color\n",
    "    else:\n",
    "        colors_dict[node_id] = 'lightgray'\n",
    "        btn.style.button_color = 'lightgray'\n",
    "    \n",
    "    print(\"Dict :\",colors_dict)\n",
    "    out_panel = main_panel.children[0].children[0].children[1]\n",
    "#     img = visualization.graphviz_draw(graph, node_attr_fn = node_colors)\n",
    "    out_panel.clear_output()\n",
    "    with out_panel:\n",
    "        display(visualization.graphviz_draw(graph, node_attr_fn = node_colors))\n",
    "   \n",
    "    "
   ]
  },
  {
   "cell_type": "code",
   "execution_count": 984,
   "id": "1e991ca2",
   "metadata": {
    "ExecuteTime": {
     "end_time": "2022-04-10T08:36:16.457295Z",
     "start_time": "2022-04-10T08:36:16.207508Z"
    }
   },
   "outputs": [
    {
     "data": {
      "application/vnd.jupyter.widget-view+json": {
       "model_id": "fb2739430dda45bf860c18e1322ff39e",
       "version_major": 2,
       "version_minor": 0
      },
      "text/plain": [
       "VBox(children=(HTML(value=\"<h2 class = 'title'> Vertices </h2>\", layout=Layout(margin='5px', padding='5px 5px …"
      ]
     },
     "metadata": {},
     "output_type": "display_data"
    }
   ],
   "source": [
    "vertex_text = widgets.HTML(r\"<h2 class = 'title'> Vertices </h2>\", layout = {\"margin\":\"5px\", \"padding\":\"5px 5px 5px 30%\"})\n",
    "table_layout =  {\n",
    "                \"width\" : \"100%\",\n",
    "                \"padding\": \"5px\",\n",
    "                \"grid_template_columns\": \"repeat(3, 33%)\",\n",
    "            }\n",
    "vertices = widgets.GridBox(\n",
    "        layout = table_layout\n",
    ")\n",
    "\n",
    "children = []\n",
    "for i in range(graph.num_nodes()):\n",
    "    b = ButtonWithValue(description = str(i), value = str(i), layout = {\"width\" : \"50px\",\"border\":\"1px solid #000\", \"margin\" : \"5px\", \"height\" : \"50px\"} )\n",
    "    b.style.button_color = '#feefff'\n",
    "    b.style.font_weight = 'bold'\n",
    "    b.on_click(vertex_callback)\n",
    "    children.append(b)\n",
    "    \n",
    "vertices.children = children\n",
    "\n",
    "vertex_box = widgets.VBox([vertex_text, vertices], layout = dict(\n",
    "        width=\"100%\", display=\"flex\", align_items=\"stretch\", flex_flow=\"column\"\n",
    "    ))\n",
    "display(vertex_box)"
   ]
  },
  {
   "cell_type": "markdown",
   "id": "9706a1ea",
   "metadata": {},
   "source": [
    "### Color Box"
   ]
  },
  {
   "cell_type": "code",
   "execution_count": 985,
   "id": "477451b7",
   "metadata": {
    "ExecuteTime": {
     "end_time": "2022-04-10T08:38:12.206100Z",
     "start_time": "2022-04-10T08:36:16.459378Z"
    }
   },
   "outputs": [],
   "source": [
    "chrom_number = chromatic_number(g)"
   ]
  },
  {
   "cell_type": "code",
   "execution_count": 986,
   "id": "0d9d8768",
   "metadata": {
    "ExecuteTime": {
     "end_time": "2022-04-10T08:38:12.336966Z",
     "start_time": "2022-04-10T08:38:12.209978Z"
    }
   },
   "outputs": [
    {
     "data": {
      "application/vnd.jupyter.widget-view+json": {
       "model_id": "a20874a73c9446779b8b90288441edda",
       "version_major": 2,
       "version_minor": 0
      },
      "text/plain": [
       "VBox(children=(HTML(value=\"<h2 class = 'title'> Chromatic Number  |  6</h2>\", layout=Layout(margin='5px', padd…"
      ]
     },
     "metadata": {},
     "output_type": "display_data"
    }
   ],
   "source": [
    "chro_number = widgets.HTML(r\"<h2 class = 'title'> Chromatic Number  |  \"+str(chrom_number) +\"</h2>\", layout = {\"margin\":\"5px\", \"padding\":\"5px 5px 5px 0px\"})\n",
    "\n",
    "color_text = widgets.HTML(r\"<h2 class = 'title'> Colors </h2>\", layout = {\"margin\":\"5px\", \"padding\":\"5px 5px 5px 30%\"})\n",
    "table_layout =  {\n",
    "                \"width\" : \"100%\",\n",
    "                \"padding\": \"5px\",\n",
    "                \"grid_template_columns\": \"repeat(3, 33%)\",\n",
    "            }\n",
    "colors = widgets.GridBox(\n",
    "        layout = table_layout\n",
    ")\n",
    "\n",
    "children = []\n",
    "color = ['red', 'blue', 'yellow', 'green', 'gray','cyan','lightgreen']\n",
    "import random\n",
    "random.shuffle(color)\n",
    "for i in range(chrom_number):\n",
    "    b = ButtonWithValue(value = color[i], layout = {\"width\" : \"50px\", \"margin\" : \"5px\", \"height\" : \"50px\"} )\n",
    "    b.style.button_color = color[i]\n",
    "    b.style.font_weight = 'bold'\n",
    "    b.on_click(color_callback)\n",
    "    children.append(b)\n",
    "\n",
    "reset = ButtonWithValue( value = \"reset\", icon = 'caret-down' ,layout = {\"width\" : \"50px\", \"margin\" : \"5px\", \"height\" : \"50px\"} )\n",
    "reset.style.font_weight = 'bold'\n",
    "reset.on_click(color_callback)\n",
    "children.append(reset)\n",
    "colors.children = children\n",
    "\n",
    "color_box = widgets.VBox([chro_number, color_text, colors], layout = dict(\n",
    "        width=\"100%\", align_items=\"stretch\", flex_flow=\"column\"\n",
    "    ))\n",
    "display(color_box)"
   ]
  },
  {
   "cell_type": "code",
   "execution_count": 987,
   "id": "f9b83642",
   "metadata": {
    "ExecuteTime": {
     "end_time": "2022-04-10T08:38:12.412521Z",
     "start_time": "2022-04-10T08:38:12.342455Z"
    }
   },
   "outputs": [],
   "source": [
    "right_panel = widgets.VBox([vertex_box, color_box], layout = { \"width\" : \"40%\", \"margin\":\"10px 10px 10px 30px\"})"
   ]
  },
  {
   "cell_type": "code",
   "execution_count": 988,
   "id": "1693c4ad",
   "metadata": {
    "ExecuteTime": {
     "end_time": "2022-04-10T08:38:12.575223Z",
     "start_time": "2022-04-10T08:38:12.415218Z"
    }
   },
   "outputs": [],
   "source": [
    "main_panel = widgets.HBox([left_panel, right_panel], layout = { \"flex_flow\" :\"row\", \"width\" : \"100%\"})"
   ]
  },
  {
   "cell_type": "code",
   "execution_count": 989,
   "id": "4f240192",
   "metadata": {
    "ExecuteTime": {
     "end_time": "2022-04-10T08:38:15.320960Z",
     "start_time": "2022-04-10T08:38:15.272430Z"
    }
   },
   "outputs": [
    {
     "data": {
      "application/vnd.jupyter.widget-view+json": {
       "model_id": "ed5211ca35144aa6a38512828e5856c6",
       "version_major": 2,
       "version_minor": 0
      },
      "text/plain": [
       "HBox(children=(VBox(children=(VBox(children=(HTML(value=\"<h1 class = 'title'> QColor </h1>\"), Output(layout=La…"
      ]
     },
     "metadata": {},
     "output_type": "display_data"
    },
    {
     "name": "stdout",
     "output_type": "stream",
     "text": [
      "Value is : cyan\n",
      "Dict : {0: 'lightgray', 1: 'lightgray', 2: 'lightgray', 3: 'lightgray', 4: 'cyan', 5: 'lightgray', 6: 'lightgray'}\n",
      "Value is : gray\n",
      "Value is : lightgreen\n",
      "Dict : {0: 'lightgray', 1: 'lightgray', 2: 'lightgray', 3: 'lightgreen', 4: 'cyan', 5: 'lightgray', 6: 'lightgray'}\n",
      "Value is : blue\n",
      "Dict : {0: 'lightgray', 1: 'lightgray', 2: 'lightgray', 3: 'lightgreen', 4: 'cyan', 5: 'lightgray', 6: 'blue'}\n",
      "Value is : green\n",
      "Dict : {0: 'green', 1: 'lightgray', 2: 'lightgray', 3: 'lightgreen', 4: 'cyan', 5: 'lightgray', 6: 'blue'}\n",
      "Value is : yellow\n",
      "Dict : {0: 'green', 1: 'yellow', 2: 'lightgray', 3: 'lightgreen', 4: 'cyan', 5: 'lightgray', 6: 'blue'}\n",
      "Dict : {0: 'green', 1: 'yellow', 2: 'yellow', 3: 'lightgreen', 4: 'cyan', 5: 'lightgray', 6: 'blue'}\n",
      "Value is : blue\n",
      "Dict : {0: 'green', 1: 'yellow', 2: 'blue', 3: 'lightgreen', 4: 'cyan', 5: 'lightgray', 6: 'blue'}\n",
      "Value is : yellow\n",
      "Dict : {0: 'green', 1: 'yellow', 2: 'blue', 3: 'lightgreen', 4: 'cyan', 5: 'yellow', 6: 'blue'}\n"
     ]
    }
   ],
   "source": [
    "display(main_panel)"
   ]
  },
  {
   "cell_type": "code",
   "execution_count": null,
   "id": "7a687f13",
   "metadata": {},
   "outputs": [],
   "source": []
  }
 ],
 "metadata": {
  "kernelspec": {
   "display_name": "Python 3",
   "language": "python",
   "name": "python3"
  },
  "language_info": {
   "codemirror_mode": {
    "name": "ipython",
    "version": 3
   },
   "file_extension": ".py",
   "mimetype": "text/x-python",
   "name": "python",
   "nbconvert_exporter": "python",
   "pygments_lexer": "ipython3",
   "version": "3.8.8"
  }
 },
 "nbformat": 4,
 "nbformat_minor": 5
}
