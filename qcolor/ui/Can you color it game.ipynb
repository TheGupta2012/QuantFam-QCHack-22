{
 "cells": [
  {
   "cell_type": "markdown",
   "id": "506451d9",
   "metadata": {},
   "source": [
    "# Build UI"
   ]
  },
  {
   "cell_type": "code",
   "execution_count": 23,
   "id": "e95a78a3",
   "metadata": {
    "ExecuteTime": {
     "end_time": "2022-04-20T12:45:35.292612Z",
     "start_time": "2022-04-20T12:45:35.284767Z"
    }
   },
   "outputs": [],
   "source": [
    "import ipywidgets as widgets"
   ]
  },
  {
   "cell_type": "markdown",
   "id": "5c94b41a",
   "metadata": {},
   "source": [
    "### Button with a Value"
   ]
  },
  {
   "cell_type": "code",
   "execution_count": 24,
   "id": "adc5a851",
   "metadata": {
    "ExecuteTime": {
     "end_time": "2022-04-20T12:45:35.391397Z",
     "start_time": "2022-04-20T12:45:35.317043Z"
    }
   },
   "outputs": [],
   "source": [
    "class ButtonWithValue(widgets.Button):\n",
    "    def __init__(self, *args, **kwargs):\n",
    "        self.value = kwargs['value']\n",
    "        kwargs.pop('value', None)\n",
    "        super(ButtonWithValue, self).__init__(*args, **kwargs)"
   ]
  },
  {
   "cell_type": "markdown",
   "id": "166d1c6e",
   "metadata": {},
   "source": [
    "### Chromatic Number"
   ]
  },
  {
   "cell_type": "code",
   "execution_count": 25,
   "id": "17698695",
   "metadata": {
    "ExecuteTime": {
     "end_time": "2022-04-20T12:45:35.506372Z",
     "start_time": "2022-04-20T12:45:35.393494Z"
    }
   },
   "outputs": [],
   "source": [
    "import numpy as np\n",
    "import networkx as nx\n",
    "from qiskit import Aer\n",
    "from qiskit.quantum_info import Pauli\n",
    "from qiskit.opflow import PauliSumOp\n",
    "from qiskit.algorithms import QAOA\n",
    "from qiskit.algorithms.optimizers import ADAM\n",
    "\n",
    "\n",
    "def get_operator(G):\n",
    "    \"\"\"Construct the cost Hamiltonian for the maximum independent set of a \n",
    "    a graph defined as:\n",
    "        0.5 \\sum_{i=nodes} Z_i + A/4 \\sum_{ij = edges} Z_i x Z_j - Z_i - Z_j.\n",
    "    Args:\n",
    "        class graph (networkx): the graph in networkx.\n",
    "    Returns:\n",
    "        dict: dictionary of pauli Z matrices and its position.\n",
    "    \"\"\"\n",
    "    \n",
    "    A = 2.6\n",
    "    num_nodes = G.number_of_nodes()\n",
    " \n",
    "    pauli_list = []\n",
    "    \n",
    "    for i in range(num_nodes):\n",
    "        x_p = np.zeros(num_nodes, dtype=bool)\n",
    "        z_p = np.zeros(num_nodes, dtype=bool)\n",
    "        z_p[i] = True \n",
    "        pauli_list.append([1/2,Pauli((z_p,x_p))])\n",
    "        \n",
    "    for pair in G.edges:\n",
    "        x_p = np.zeros(num_nodes, dtype=bool)\n",
    "        z_p = np.zeros(num_nodes, dtype=bool)\n",
    "        z_p[pair[0]] = True\n",
    "        z_p[pair[1]] = True\n",
    "        pauli_list.append([A/4, Pauli((z_p,x_p))])\n",
    "        \n",
    "    for pair in G.edges:\n",
    "        x_p = np.zeros(num_nodes, dtype=bool)\n",
    "        z_p = np.zeros(num_nodes, dtype=bool)\n",
    "        z_p[pair[0]] = True\n",
    "        pauli_list.append([-A/4, Pauli((z_p,x_p))])\n",
    "        \n",
    "    for pair in G.edges:\n",
    "        x_p = np.zeros(num_nodes, dtype=bool)\n",
    "        z_p = np.zeros(num_nodes, dtype=bool)\n",
    "        z_p[pair[1]] = True\n",
    "        pauli_list.append([-A/4, Pauli((z_p,x_p))])\n",
    "        \n",
    "    pauli_list = [(pauli[1].to_label(), pauli[0]) for pauli in pauli_list]\n",
    "    \n",
    "    return PauliSumOp.from_list(pauli_list)\n",
    "\n",
    "\n",
    "def sample_most_likely(state_vector):\n",
    "    \"\"\"Compute the most likely binary string from state vector.\n",
    "    Args:\n",
    "        state_vector (numpy.ndarray): state vector or counts.\n",
    "    Returns:\n",
    "        numpy.ndarray: binary string as numpy.ndarray of ints.\n",
    "    \"\"\"\n",
    "    n = int(np.log2(state_vector.shape[0]))\n",
    "    k = np.argmax(np.abs(state_vector))\n",
    "    x = np.zeros(n)\n",
    "    for i in range(n):\n",
    "       x[i] = k % 2\n",
    "       k >>= 1\n",
    "    return x\n",
    "\n",
    "def max_clique(G):\n",
    "    \"\"\"Compute the QAOA algorithm and find the maximum independent set \n",
    "    of the graph G.\n",
    "    Args:\n",
    "        class graph (networkx): the graph in networkx.\n",
    "    Returns:\n",
    "        numpy.ndarray: binary string as numpy.ndarray of ints.\n",
    "    \"\"\"\n",
    "    qubit_op = get_operator(G)\n",
    "    optimizer = ADAM()\n",
    "    qaoa = QAOA(optimizer, quantum_instance=Aer.get_backend('statevector_simulator'))\n",
    "\n",
    "    result = qaoa.compute_minimum_eigenvalue(qubit_op)\n",
    "                \n",
    "    return sample_most_likely(result.eigenstate)\n",
    "\n",
    "\n",
    "def chromatic_number(G):\n",
    "    \"\"\"Compute the chromatic number of a graph G.\n",
    "    Args:\n",
    "        class graph(networkx): the graph in networkx.\n",
    "    Returns:\n",
    "        int: integer ranging from 1 to number of nodes.  \n",
    "    \"\"\"\n",
    "    color = 1\n",
    "    while bool(G.edges):\n",
    "        clique = max_clique(G)\n",
    "        for i in range(len(clique)):\n",
    "            if clique[i] == 1:\n",
    "                G.remove_node(i)\n",
    "        G=nx.convert_node_labels_to_integers(G) #relabel nodes starting from 0\n",
    "        color += 1\n",
    "    return color "
   ]
  },
  {
   "cell_type": "code",
   "execution_count": 26,
   "id": "1d504e5a",
   "metadata": {
    "ExecuteTime": {
     "end_time": "2022-04-20T12:45:35.637002Z",
     "start_time": "2022-04-20T12:45:35.511211Z"
    }
   },
   "outputs": [],
   "source": [
    "import retworkx as rx\n",
    "import networkx as nx \n",
    "from retworkx import visualization\n",
    "from qiskit.visualization import dag_drawer"
   ]
  },
  {
   "cell_type": "markdown",
   "id": "15413d8f",
   "metadata": {},
   "source": [
    "### Graph Panel"
   ]
  },
  {
   "cell_type": "code",
   "execution_count": 27,
   "id": "0dda1aac",
   "metadata": {
    "ExecuteTime": {
     "end_time": "2022-04-20T12:45:35.747121Z",
     "start_time": "2022-04-20T12:45:35.640942Z"
    }
   },
   "outputs": [],
   "source": [
    "def reset_game():\n",
    "    g = nx.generators.gnm_random_graph(n = 5, m = 8)  \n",
    "    graph = rx.networkx_converter(g)\n",
    "    colors_dict = dict()\n",
    "\n",
    "    for i in range(graph.num_nodes()):\n",
    "        colors_dict[i] = \"lightgray\"\n",
    "    \n",
    "    return g, graph, colors_dict "
   ]
  },
  {
   "cell_type": "code",
   "execution_count": 28,
   "id": "67cbc504",
   "metadata": {
    "ExecuteTime": {
     "end_time": "2022-04-20T12:45:35.857700Z",
     "start_time": "2022-04-20T12:45:35.752375Z"
    }
   },
   "outputs": [],
   "source": [
    "# retworkx \n",
    "g, graph, colors_dict = reset_game()\n",
    "\n",
    "def node_colors(node):\n",
    "    style = {\n",
    "        'color' : colors_dict[node], 'fillcolor' : colors_dict[node], 'style' : 'filled'\n",
    "    }\n",
    "    return style"
   ]
  },
  {
   "cell_type": "code",
   "execution_count": 29,
   "id": "9520dfa8",
   "metadata": {
    "ExecuteTime": {
     "end_time": "2022-04-20T12:45:36.065177Z",
     "start_time": "2022-04-20T12:45:35.863683Z"
    }
   },
   "outputs": [],
   "source": [
    "graph_text = widgets.HTML(r\"<h1 class = 'title'> QColor </h1>\")\n",
    "graph_img = widgets.Output(layout = {'width' : '100%'})\n",
    "\n",
    "graph_img.clear_output()\n",
    "graph_img.layout = {\n",
    "    \"border\": \"1px solid #000\",\n",
    "    \"padding\": \"2px 2px 2px 20%\",\n",
    "    \"margin\" : \"2px\", \n",
    "}\n",
    "with graph_img:\n",
    "    display(visualization.graphviz_draw(graph, node_attr_fn = node_colors)) \n"
   ]
  },
  {
   "cell_type": "code",
   "execution_count": 30,
   "id": "96a8edc6",
   "metadata": {
    "ExecuteTime": {
     "end_time": "2022-04-20T12:45:36.120539Z",
     "start_time": "2022-04-20T12:45:36.066457Z"
    }
   },
   "outputs": [],
   "source": [
    "def is_valid_color(graph, colors):\n",
    "    # for each edge in graph \n",
    "    edges = list(graph.edge_list())\n",
    "    \n",
    "    for edge in edges:\n",
    "        u = edge[0]\n",
    "        v = edge[1]\n",
    "        \n",
    "        # both should be colored atleast\n",
    "        if colors[u] != \"lightgray\" and colors[v] != \"lightgray\":\n",
    "            if colors[u] == colors[v]:\n",
    "                return False \n",
    "    return True\n",
    "    "
   ]
  },
  {
   "cell_type": "code",
   "execution_count": 31,
   "id": "303692c2",
   "metadata": {
    "ExecuteTime": {
     "end_time": "2022-04-20T12:45:36.255073Z",
     "start_time": "2022-04-20T12:45:36.127306Z"
    },
    "code_folding": []
   },
   "outputs": [],
   "source": [
    "def complete_color(graph, colors):\n",
    "    # for each edge in graph \n",
    "    edges = list(graph.edge_list())\n",
    "    correct = 0\n",
    "    for edge in edges:\n",
    "        u = edge[0]\n",
    "        v = edge[1]\n",
    "        \n",
    "        # both should be colored atleast\n",
    "        if colors[u] != \"lightgray\" and colors[v] != \"lightgray\":\n",
    "            if colors[u] != colors[v]:\n",
    "                correct+=1 \n",
    "    return correct == len(edges)\n",
    "    "
   ]
  },
  {
   "cell_type": "markdown",
   "id": "b147c8a4",
   "metadata": {},
   "source": [
    "### Text box for interaction"
   ]
  },
  {
   "cell_type": "code",
   "execution_count": 32,
   "id": "929034f8",
   "metadata": {
    "ExecuteTime": {
     "end_time": "2022-04-20T12:45:36.412208Z",
     "start_time": "2022-04-20T12:45:36.261368Z"
    }
   },
   "outputs": [],
   "source": [
    "def get_interaction_box(text):\n",
    "    box = widgets.HTML(\"<h3> \"+ text + \" </h3>\")\n",
    "    box.layout = {\n",
    "        \"border\": \"1px solid #000\",\n",
    "        \"padding\": \"5px 5px 5px 20px\",\n",
    "        \"margin\" : \"3px\",\n",
    "        \"overflow\": \"auto\"\n",
    "    }\n",
    "    return box"
   ]
  },
  {
   "cell_type": "code",
   "execution_count": 33,
   "id": "8e87e830",
   "metadata": {
    "ExecuteTime": {
     "end_time": "2022-04-20T12:45:36.616539Z",
     "start_time": "2022-04-20T12:45:36.416709Z"
    }
   },
   "outputs": [],
   "source": [
    "interaction_box = get_interaction_box(\"Hey there!\")"
   ]
  },
  {
   "cell_type": "code",
   "execution_count": 34,
   "id": "21fa7ede",
   "metadata": {
    "ExecuteTime": {
     "end_time": "2022-04-20T12:45:36.738676Z",
     "start_time": "2022-04-20T12:45:36.618695Z"
    }
   },
   "outputs": [],
   "source": [
    "left_panel = widgets.VBox([graph_text, graph_img, interaction_box], layout = {\"width\" : \"60%\"})"
   ]
  },
  {
   "cell_type": "code",
   "execution_count": 35,
   "id": "252bebe1",
   "metadata": {
    "ExecuteTime": {
     "end_time": "2022-04-20T12:45:36.852002Z",
     "start_time": "2022-04-20T12:45:36.743471Z"
    }
   },
   "outputs": [
    {
     "data": {
      "application/vnd.jupyter.widget-view+json": {
       "model_id": "b05d4793ae954dfb9d4f814060c19a6a",
       "version_major": 2,
       "version_minor": 0
      },
      "text/plain": [
       "VBox(children=(HTML(value=\"<h1 class = 'title'> QColor </h1>\"), Output(layout=Layout(border='1px solid #000', …"
      ]
     },
     "metadata": {},
     "output_type": "display_data"
    }
   ],
   "source": [
    "display(left_panel)"
   ]
  },
  {
   "cell_type": "markdown",
   "id": "ccada09b",
   "metadata": {},
   "source": [
    "### Callbacks for buttons"
   ]
  },
  {
   "cell_type": "code",
   "execution_count": 36,
   "id": "b56d7cc2",
   "metadata": {
    "ExecuteTime": {
     "end_time": "2022-04-20T12:45:37.047680Z",
     "start_time": "2022-04-20T12:45:36.856061Z"
    }
   },
   "outputs": [],
   "source": [
    "color_change = {\n",
    "    \"selected_color\" : None\n",
    "}"
   ]
  },
  {
   "cell_type": "code",
   "execution_count": 37,
   "id": "f6aba94f",
   "metadata": {
    "ExecuteTime": {
     "end_time": "2022-04-20T12:45:37.157623Z",
     "start_time": "2022-04-20T12:45:37.053898Z"
    }
   },
   "outputs": [],
   "source": [
    "# each button on click performs different functions \n",
    "import time \n",
    "def color_callback(btn):\n",
    "    color_val = btn.value \n",
    "    print(\"Value is :\",color_val)\n",
    "    color_change['selected_color'] = color_val\n",
    "\n",
    "def vertex_callback(btn):\n",
    "    \n",
    "    # update the color of the button \n",
    "    \n",
    "    # get the node id of the button\n",
    "    node_id = int(btn.value)\n",
    "    \n",
    "    # now color it \n",
    "    nd_color = color_change['selected_color']\n",
    "    \n",
    "    invalid = False \n",
    "    \n",
    "    if nd_color!=\"reset\":\n",
    "        # check whether we can color it and \n",
    "        # graph will remain a valid coloring \n",
    "        \n",
    "        prev_color = colors_dict[node_id]\n",
    "        \n",
    "        # try to change the color \n",
    "        colors_dict[node_id] = nd_color\n",
    "        \n",
    "        \n",
    "        if not is_valid_color(graph, colors_dict):\n",
    "            # you need to alert the user and \n",
    "            # revert this color \n",
    "            text = \"Sorry, invalid coloring!\"\n",
    "            print(text)\n",
    "            colors_dict[node_id] = prev_color\n",
    "            btn.style.button_color = '#ffdcd1'\n",
    "            time.sleep(0.5)\n",
    "            btn.style.button_color = '#feefff'\n",
    "            invalid = True \n",
    "        else:\n",
    "            btn.style.button_color = nd_color\n",
    "    else:\n",
    "        colors_dict[node_id] = 'lightgray'\n",
    "        btn.style.button_color = 'lightgray'\n",
    "    \n",
    "    print(\"Dict :\",colors_dict)\n",
    "    \n",
    "    children = main_panel.children[0].children\n",
    "    \n",
    "    head = children[0]\n",
    "    out_panel = children[1]\n",
    "    text_box = children[2]\n",
    "    \n",
    "    if not invalid:\n",
    "        out_panel.clear_output()\n",
    "        with out_panel:\n",
    "            display(visualization.graphviz_draw(graph, node_attr_fn = node_colors))\n",
    "\n",
    "    if complete_color(graph, colors_dict):\n",
    "        text_box = get_interaction_box(\"You have won!\")\n",
    "        text_box.style.font_color = 'orange'\n",
    "        \n",
    "        main_panel.children[0].children = [head, out_panel, text_box]\n",
    "        reset_game()"
   ]
  },
  {
   "cell_type": "markdown",
   "id": "e0415367",
   "metadata": {},
   "source": [
    "### Make the right box"
   ]
  },
  {
   "cell_type": "code",
   "execution_count": 38,
   "id": "1e991ca2",
   "metadata": {
    "ExecuteTime": {
     "end_time": "2022-04-20T12:45:37.356495Z",
     "start_time": "2022-04-20T12:45:37.161647Z"
    },
    "scrolled": true
   },
   "outputs": [
    {
     "data": {
      "application/vnd.jupyter.widget-view+json": {
       "model_id": "e6d3d32208414c458b56a64495a51944",
       "version_major": 2,
       "version_minor": 0
      },
      "text/plain": [
       "VBox(children=(HTML(value=\"<h2 class = 'title'> Vertices </h2>\", layout=Layout(margin='5px', padding='5px 5px …"
      ]
     },
     "metadata": {},
     "output_type": "display_data"
    }
   ],
   "source": [
    "vertex_text = widgets.HTML(r\"<h2 class = 'title'> Vertices </h2>\", layout = {\"margin\":\"5px\", \"padding\":\"5px 5px 5px 30%\"})\n",
    "table_layout =  {\n",
    "                \"width\" : \"100%\",\n",
    "                \"padding\": \"5px\",\n",
    "                \"grid_template_columns\": \"repeat(3, 33%)\",\n",
    "            }\n",
    "\n",
    "vertices = widgets.GridBox(\n",
    "        layout = table_layout\n",
    ")\n",
    "\n",
    "children = []\n",
    "for i in range(graph.num_nodes()):\n",
    "    b = ButtonWithValue(description = str(i), value = str(i), layout = {\"width\" : \"50px\",\"border\":\"1px solid #000\", \"margin\" : \"5px\", \"height\" : \"50px\"} )\n",
    "    b.style.button_color = '#feefff'\n",
    "    b.style.font_weight = 'bold'\n",
    "    b.on_click(vertex_callback)\n",
    "    children.append(b)\n",
    "    \n",
    "vertices.children = children\n",
    "\n",
    "vertex_box = widgets.VBox([vertex_text, vertices], layout = dict(\n",
    "        width=\"100%\", display=\"flex\", align_items=\"stretch\", flex_flow=\"column\"\n",
    "    ))\n",
    "display(vertex_box)"
   ]
  },
  {
   "cell_type": "markdown",
   "id": "9706a1ea",
   "metadata": {},
   "source": [
    "### Color Box"
   ]
  },
  {
   "cell_type": "code",
   "execution_count": 39,
   "id": "477451b7",
   "metadata": {
    "ExecuteTime": {
     "end_time": "2022-04-20T12:45:47.726569Z",
     "start_time": "2022-04-20T12:45:37.357722Z"
    }
   },
   "outputs": [],
   "source": [
    "chrom_number = chromatic_number(g)"
   ]
  },
  {
   "cell_type": "code",
   "execution_count": 40,
   "id": "0d9d8768",
   "metadata": {
    "ExecuteTime": {
     "end_time": "2022-04-20T12:45:47.778058Z",
     "start_time": "2022-04-20T12:45:47.728129Z"
    }
   },
   "outputs": [
    {
     "data": {
      "application/vnd.jupyter.widget-view+json": {
       "model_id": "11f8b40f772f4cc388a73c38df4f082e",
       "version_major": 2,
       "version_minor": 0
      },
      "text/plain": [
       "VBox(children=(HTML(value=\"<h2 class = 'title'> Chromatic Number  |  3</h2>\", layout=Layout(margin='5px', padd…"
      ]
     },
     "metadata": {},
     "output_type": "display_data"
    }
   ],
   "source": [
    "chro_number = widgets.HTML(r\"<h2 class = 'title'> Chromatic Number  |  \"+str(chrom_number) +\"</h2>\", layout = {\"margin\":\"5px\", \"padding\":\"5px 5px 5px 0px\"})\n",
    "\n",
    "color_text = widgets.HTML(r\"<h2 class = 'title'> Colors </h2>\", layout = {\"margin\":\"5px\", \"padding\":\"5px 5px 5px 30%\"})\n",
    "table_layout =  {\n",
    "                \"width\" : \"100%\",\n",
    "                \"padding\": \"5px\",\n",
    "                \"grid_template_columns\": \"repeat(3, 33%)\",\n",
    "            }\n",
    "colors = widgets.GridBox(\n",
    "        layout = table_layout\n",
    ")\n",
    "\n",
    "children = []\n",
    "color = ['red', 'blue', 'yellow', 'green', 'gray','cyan','lightgreen']\n",
    "import random\n",
    "random.shuffle(color)\n",
    "\n",
    "\n",
    "for i in range(chrom_number):\n",
    "    b = ButtonWithValue(value = color[i], layout = {\"width\" : \"50px\", \"margin\" : \"5px\", \"height\" : \"50px\"} )\n",
    "    b.style.button_color = color[i]\n",
    "    b.style.font_weight = 'bold'\n",
    "    b.on_click(color_callback)\n",
    "    children.append(b)\n",
    "\n",
    "reset = ButtonWithValue( value = \"reset\", icon = 'caret-down' ,layout = {\"width\" : \"50px\", \"margin\" : \"5px\", \"height\" : \"50px\"} )\n",
    "reset.style.font_weight = 'bold'\n",
    "reset.on_click(color_callback)\n",
    "children.append(reset)\n",
    "colors.children = children\n",
    "\n",
    "color_box = widgets.VBox([chro_number, color_text, colors], layout = dict(\n",
    "        width=\"100%\", align_items=\"stretch\", flex_flow=\"column\"\n",
    "    ))\n",
    "display(color_box)"
   ]
  },
  {
   "cell_type": "code",
   "execution_count": 41,
   "id": "f9b83642",
   "metadata": {
    "ExecuteTime": {
     "end_time": "2022-04-20T12:45:47.893898Z",
     "start_time": "2022-04-20T12:45:47.780024Z"
    }
   },
   "outputs": [],
   "source": [
    "right_panel = widgets.VBox([vertex_box, color_box], layout = { \"width\" : \"40%\", \"margin\":\"10px 10px 10px 30px\"})"
   ]
  },
  {
   "cell_type": "code",
   "execution_count": 42,
   "id": "1693c4ad",
   "metadata": {
    "ExecuteTime": {
     "end_time": "2022-04-20T12:45:48.012566Z",
     "start_time": "2022-04-20T12:45:47.895229Z"
    }
   },
   "outputs": [],
   "source": [
    "main_panel = widgets.HBox([left_panel, right_panel], layout = { \"flex_flow\" :\"row\", \"width\" : \"100%\"})"
   ]
  },
  {
   "cell_type": "markdown",
   "id": "1f394881",
   "metadata": {},
   "source": [
    "# Q-Color!"
   ]
  },
  {
   "cell_type": "code",
   "execution_count": 43,
   "id": "4f240192",
   "metadata": {
    "ExecuteTime": {
     "end_time": "2022-04-20T12:46:04.928710Z",
     "start_time": "2022-04-20T12:46:04.901429Z"
    }
   },
   "outputs": [
    {
     "data": {
      "application/vnd.jupyter.widget-view+json": {
       "model_id": "65c9c338c6204b888a06fb849ed1e719",
       "version_major": 2,
       "version_minor": 0
      },
      "text/plain": [
       "HBox(children=(VBox(children=(HTML(value=\"<h1 class = 'title'> QColor </h1>\"), Output(layout=Layout(border='1p…"
      ]
     },
     "metadata": {},
     "output_type": "display_data"
    },
    {
     "name": "stdout",
     "output_type": "stream",
     "text": [
      "Value is : green\n",
      "Dict : {0: 'lightgray', 1: 'lightgray', 2: 'lightgray', 3: 'green', 4: 'lightgray'}\n",
      "Value is : green\n",
      "Sorry, invalid coloring!\n",
      "Dict : {0: 'lightgray', 1: 'lightgray', 2: 'lightgray', 3: 'green', 4: 'lightgray'}\n",
      "Value is : cyan\n",
      "Dict : {0: 'lightgray', 1: 'lightgray', 2: 'lightgray', 3: 'green', 4: 'cyan'}\n",
      "Value is : red\n",
      "Dict : {0: 'lightgray', 1: 'lightgray', 2: 'red', 3: 'green', 4: 'cyan'}\n",
      "Value is : green\n",
      "Value is : cyan\n",
      "Dict : {0: 'cyan', 1: 'lightgray', 2: 'red', 3: 'green', 4: 'cyan'}\n",
      "Value is : reset\n",
      "Dict : {0: 'cyan', 1: 'lightgray', 2: 'red', 3: 'green', 4: 'lightgray'}\n",
      "Value is : red\n",
      "Sorry, invalid coloring!\n",
      "Dict : {0: 'cyan', 1: 'lightgray', 2: 'red', 3: 'green', 4: 'lightgray'}\n",
      "Value is : red\n",
      "Dict : {0: 'cyan', 1: 'red', 2: 'red', 3: 'green', 4: 'lightgray'}\n",
      "Value is : cyan\n",
      "Dict : {0: 'cyan', 1: 'red', 2: 'red', 3: 'green', 4: 'cyan'}\n",
      "Value is : reset\n",
      "Dict : {0: 'cyan', 1: 'red', 2: 'red', 3: 'lightgray', 4: 'cyan'}\n",
      "Value is : reset\n",
      "Dict : {0: 'cyan', 1: 'lightgray', 2: 'red', 3: 'lightgray', 4: 'cyan'}\n",
      "Dict : {0: 'cyan', 1: 'lightgray', 2: 'red', 3: 'lightgray', 4: 'cyan'}\n",
      "Value is : reset\n",
      "Dict : {0: 'cyan', 1: 'lightgray', 2: 'lightgray', 3: 'lightgray', 4: 'cyan'}\n",
      "Value is : reset\n",
      "Dict : {0: 'lightgray', 1: 'lightgray', 2: 'lightgray', 3: 'lightgray', 4: 'cyan'}\n",
      "Value is : reset\n",
      "Dict : {0: 'lightgray', 1: 'lightgray', 2: 'lightgray', 3: 'lightgray', 4: 'lightgray'}\n",
      "Value is : green\n",
      "Dict : {0: 'lightgray', 1: 'lightgray', 2: 'lightgray', 3: 'lightgray', 4: 'green'}\n",
      "Value is : green\n",
      "Dict : {0: 'green', 1: 'lightgray', 2: 'lightgray', 3: 'lightgray', 4: 'green'}\n",
      "Value is : cyan\n",
      "Dict : {0: 'green', 1: 'cyan', 2: 'lightgray', 3: 'lightgray', 4: 'green'}\n",
      "Value is : cyan\n",
      "Dict : {0: 'green', 1: 'cyan', 2: 'cyan', 3: 'lightgray', 4: 'green'}\n",
      "Value is : red\n",
      "Dict : {0: 'green', 1: 'cyan', 2: 'cyan', 3: 'red', 4: 'green'}\n",
      "Value is : reset\n",
      "Dict : {0: 'green', 1: 'cyan', 2: 'cyan', 3: 'lightgray', 4: 'green'}\n",
      "Value is : reset\n",
      "Dict : {0: 'green', 1: 'cyan', 2: 'cyan', 3: 'lightgray', 4: 'lightgray'}\n",
      "Value is : reset\n",
      "Dict : {0: 'lightgray', 1: 'cyan', 2: 'cyan', 3: 'lightgray', 4: 'lightgray'}\n",
      "Value is : cyan\n",
      "Sorry, invalid coloring!\n",
      "Dict : {0: 'lightgray', 1: 'cyan', 2: 'cyan', 3: 'lightgray', 4: 'lightgray'}\n",
      "Value is : cyan\n",
      "Sorry, invalid coloring!\n",
      "Dict : {0: 'lightgray', 1: 'cyan', 2: 'cyan', 3: 'lightgray', 4: 'lightgray'}\n"
     ]
    }
   ],
   "source": [
    "display(main_panel)"
   ]
  },
  {
   "cell_type": "code",
   "execution_count": null,
   "id": "7a687f13",
   "metadata": {},
   "outputs": [],
   "source": []
  }
 ],
 "metadata": {
  "kernelspec": {
   "display_name": "Python 3",
   "language": "python",
   "name": "python3"
  },
  "language_info": {
   "codemirror_mode": {
    "name": "ipython",
    "version": 3
   },
   "file_extension": ".py",
   "mimetype": "text/x-python",
   "name": "python",
   "nbconvert_exporter": "python",
   "pygments_lexer": "ipython3",
   "version": "3.8.8"
  }
 },
 "nbformat": 4,
 "nbformat_minor": 5
}
